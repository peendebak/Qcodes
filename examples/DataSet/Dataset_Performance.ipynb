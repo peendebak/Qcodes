{
 "cells": [
  {
   "cell_type": "markdown",
   "metadata": {},
   "source": [
    "# DataSet Performance\n",
    "\n",
    "This notebook shows the trade-off between inserting data into a database row-by-row and as binary blobs. Inserting the data row-by-row means that we have direct access to all the data and may perform queries directly on the values of the data. On the other hand, as we shall see, this is much slower than inserting the data directly as binary blobs."
   ]
  },
  {
   "cell_type": "markdown",
   "metadata": {},
   "source": [
    "First, we choose a new location for the database to ensure that we don't add a bunch of benchmarking data to the default one."
   ]
  },
  {
   "cell_type": "code",
   "execution_count": 1,
   "metadata": {
    "execution": {
     "iopub.execute_input": "2021-06-21T20:00:30.214791Z",
     "iopub.status.busy": "2021-06-21T20:00:30.214141Z",
     "iopub.status.idle": "2021-06-21T20:00:31.496798Z",
     "shell.execute_reply": "2021-06-21T20:00:31.496170Z"
    }
   },
   "outputs": [
    {
     "name": "stdout",
     "output_type": "stream",
     "text": [
      "Logging hadn't been started.\n",
      "Activating auto-logging. Current session state plus future input saved.\n",
      "Filename       : /home/runner/.qcodes/logs/command_history.log\n",
      "Mode           : append\n",
      "Output logging : True\n",
      "Raw input log  : False\n",
      "Timestamping   : True\n",
      "State          : active\n"
     ]
    },
    {
     "name": "stdout",
     "output_type": "stream",
     "text": [
      "Qcodes Logfile : /home/runner/.qcodes/logs/210621-4330-qcodes.log\n"
     ]
    }
   ],
   "source": [
    "import os\n",
    "cwd = os.getcwd()\n",
    "import qcodes as qc\n",
    "qc.config[\"core\"][\"db_location\"] = os.path.join(cwd, 'testing.db')\n"
   ]
  },
  {
   "cell_type": "code",
   "execution_count": 2,
   "metadata": {
    "execution": {
     "iopub.execute_input": "2021-06-21T20:00:31.503146Z",
     "iopub.status.busy": "2021-06-21T20:00:31.502517Z",
     "iopub.status.idle": "2021-06-21T20:00:31.708694Z",
     "shell.execute_reply": "2021-06-21T20:00:31.709185Z"
    }
   },
   "outputs": [],
   "source": [
    "%matplotlib inline\n",
    "import time\n",
    "import matplotlib.pyplot as plt\n",
    "import numpy as np\n",
    "\n",
    "import qcodes as qc\n",
    "from qcodes.instrument.parameter import ManualParameter\n",
    "from qcodes.dataset.experiment_container import (Experiment,\n",
    "                                                 load_last_experiment,\n",
    "                                                 new_experiment)\n",
    "from qcodes.dataset.sqlite.database import initialise_database\n",
    "from qcodes import load_or_create_experiment\n",
    "from qcodes.dataset.measurements import Measurement"
   ]
  },
  {
   "cell_type": "code",
   "execution_count": 3,
   "metadata": {
    "execution": {
     "iopub.execute_input": "2021-06-21T20:00:31.713483Z",
     "iopub.status.busy": "2021-06-21T20:00:31.712847Z",
     "iopub.status.idle": "2021-06-21T20:00:31.795808Z",
     "shell.execute_reply": "2021-06-21T20:00:31.796328Z"
    }
   },
   "outputs": [
    {
     "name": "stdout",
     "output_type": "stream",
     "text": [
      "\r",
      "0it [00:00, ?it/s]"
     ]
    },
    {
     "name": "stdout",
     "output_type": "stream",
     "text": [
      "\r",
      "Upgrading database; v0 -> v1: : 0it [00:00, ?it/s]"
     ]
    },
    {
     "name": "stdout",
     "output_type": "stream",
     "text": [
      "\r",
      "Upgrading database; v0 -> v1: : 0it [00:00, ?it/s]"
     ]
    },
    {
     "name": "stdout",
     "output_type": "stream",
     "text": [
      "\n",
      "\r",
      "  0%|          | 0/1 [00:00<?, ?it/s]"
     ]
    },
    {
     "name": "stdout",
     "output_type": "stream",
     "text": [
      "\r",
      "Upgrading database; v1 -> v2:   0%|          | 0/1 [00:00<?, ?it/s]"
     ]
    },
    {
     "name": "stdout",
     "output_type": "stream",
     "text": [
      "\r",
      "Upgrading database; v1 -> v2: 100%|██████████| 1/1 [00:00<00:00, 1040.51it/s]"
     ]
    },
    {
     "name": "stdout",
     "output_type": "stream",
     "text": [
      "\n",
      "\r",
      "0it [00:00, ?it/s]"
     ]
    },
    {
     "name": "stdout",
     "output_type": "stream",
     "text": [
      "\r",
      "Upgrading database; v2 -> v3: : 0it [00:00, ?it/s]"
     ]
    },
    {
     "name": "stdout",
     "output_type": "stream",
     "text": [
      "\r",
      "Upgrading database; v2 -> v3: : 0it [00:00, ?it/s]"
     ]
    },
    {
     "name": "stdout",
     "output_type": "stream",
     "text": [
      "\n",
      "\r",
      "0it [00:00, ?it/s]"
     ]
    },
    {
     "name": "stdout",
     "output_type": "stream",
     "text": [
      "\r",
      "Upgrading database; v3 -> v4: : 0it [00:00, ?it/s]"
     ]
    },
    {
     "name": "stdout",
     "output_type": "stream",
     "text": [
      "\r",
      "Upgrading database; v3 -> v4: : 0it [00:00, ?it/s]"
     ]
    },
    {
     "name": "stdout",
     "output_type": "stream",
     "text": [
      "\n",
      "\r",
      "  0%|          | 0/1 [00:00<?, ?it/s]"
     ]
    },
    {
     "name": "stdout",
     "output_type": "stream",
     "text": [
      "\r",
      "Upgrading database; v4 -> v5:   0%|          | 0/1 [00:00<?, ?it/s]"
     ]
    },
    {
     "name": "stdout",
     "output_type": "stream",
     "text": [
      "\r",
      "Upgrading database; v4 -> v5: 100%|██████████| 1/1 [00:00<00:00, 663.66it/s]"
     ]
    },
    {
     "name": "stdout",
     "output_type": "stream",
     "text": [
      "\n",
      "\r",
      "0it [00:00, ?it/s]"
     ]
    },
    {
     "name": "stdout",
     "output_type": "stream",
     "text": [
      "\r",
      "Upgrading database; v5 -> v6: : 0it [00:00, ?it/s]"
     ]
    },
    {
     "name": "stdout",
     "output_type": "stream",
     "text": [
      "\r",
      "Upgrading database; v5 -> v6: : 0it [00:00, ?it/s]"
     ]
    },
    {
     "name": "stdout",
     "output_type": "stream",
     "text": [
      "\n",
      "\r",
      "  0%|          | 0/1 [00:00<?, ?it/s]"
     ]
    },
    {
     "name": "stdout",
     "output_type": "stream",
     "text": [
      "\r",
      "Upgrading database; v6 -> v7:   0%|          | 0/1 [00:00<?, ?it/s]"
     ]
    },
    {
     "name": "stdout",
     "output_type": "stream",
     "text": [
      "\r",
      "Upgrading database; v6 -> v7: 100%|██████████| 1/1 [00:00<00:00, 257.51it/s]"
     ]
    },
    {
     "name": "stdout",
     "output_type": "stream",
     "text": [
      "\n",
      "\r",
      "  0%|          | 0/1 [00:00<?, ?it/s]"
     ]
    },
    {
     "name": "stdout",
     "output_type": "stream",
     "text": [
      "\r",
      "Upgrading database; v7 -> v8:   0%|          | 0/1 [00:00<?, ?it/s]"
     ]
    },
    {
     "name": "stdout",
     "output_type": "stream",
     "text": [
      "\r",
      "Upgrading database; v7 -> v8: 100%|██████████| 1/1 [00:00<00:00, 410.28it/s]"
     ]
    },
    {
     "name": "stdout",
     "output_type": "stream",
     "text": [
      "\n",
      "\r",
      "  0%|          | 0/1 [00:00<?, ?it/s]"
     ]
    },
    {
     "name": "stdout",
     "output_type": "stream",
     "text": [
      "\r",
      "Upgrading database; v8 -> v9:   0%|          | 0/1 [00:00<?, ?it/s]"
     ]
    },
    {
     "name": "stdout",
     "output_type": "stream",
     "text": [
      "\r",
      "Upgrading database; v8 -> v9: 100%|██████████| 1/1 [00:00<00:00, 402.10it/s]"
     ]
    },
    {
     "name": "stdout",
     "output_type": "stream",
     "text": [
      "\n"
     ]
    }
   ],
   "source": [
    "initialise_database()\n",
    "exp = load_or_create_experiment(experiment_name='tutorial_exp', sample_name=\"no sample\")"
   ]
  },
  {
   "cell_type": "markdown",
   "metadata": {},
   "source": [
    "Here, we define a simple function to benchmark the time it takes to insert n points with either numeric or array data type.\n",
    "We will compare both the time used to call ``add_result`` and the time used for the full measurement."
   ]
  },
  {
   "cell_type": "code",
   "execution_count": 4,
   "metadata": {
    "execution": {
     "iopub.execute_input": "2021-06-21T20:00:31.806008Z",
     "iopub.status.busy": "2021-06-21T20:00:31.805011Z",
     "iopub.status.idle": "2021-06-21T20:00:31.809188Z",
     "shell.execute_reply": "2021-06-21T20:00:31.808621Z"
    }
   },
   "outputs": [],
   "source": [
    "def insert_data(paramtype, npoints, nreps=1):\n",
    "\n",
    "    meas = Measurement(exp=exp)\n",
    "\n",
    "    x1 = ManualParameter('x1')\n",
    "    x2 = ManualParameter('x2')\n",
    "    x3 = ManualParameter('x3')\n",
    "    y1 = ManualParameter('y1')\n",
    "    y2 = ManualParameter('y2')\n",
    "\n",
    "    meas.register_parameter(x1, paramtype=paramtype)\n",
    "    meas.register_parameter(x2, paramtype=paramtype)\n",
    "    meas.register_parameter(x3, paramtype=paramtype)\n",
    "    meas.register_parameter(y1, setpoints=[x1, x2, x3],\n",
    "                            paramtype=paramtype)\n",
    "    meas.register_parameter(y2, setpoints=[x1, x2, x3],\n",
    "                            paramtype=paramtype)\n",
    "    start = time.perf_counter()\n",
    "    with meas.run() as datasaver:\n",
    "        start_adding = time.perf_counter()\n",
    "        for i in range(nreps):\n",
    "            datasaver.add_result((x1, np.random.rand(npoints)),\n",
    "                                 (x2, np.random.rand(npoints)),\n",
    "                                 (x3, np.random.rand(npoints)),\n",
    "                                 (y1, np.random.rand(npoints)),\n",
    "                                 (y2, np.random.rand(npoints)))\n",
    "        stop_adding = time.perf_counter()\n",
    "        run_id = datasaver.run_id\n",
    "    stop = time.perf_counter()\n",
    "    tot_time = stop - start\n",
    "    add_time = stop_adding - start_adding\n",
    "    return tot_time, add_time, run_id"
   ]
  },
  {
   "cell_type": "markdown",
   "metadata": {},
   "source": [
    "## Comparison between numeric/array data and binary blob"
   ]
  },
  {
   "cell_type": "markdown",
   "metadata": {},
   "source": [
    "### Case1: Short experiment time"
   ]
  },
  {
   "cell_type": "code",
   "execution_count": 5,
   "metadata": {
    "execution": {
     "iopub.execute_input": "2021-06-21T20:00:31.816023Z",
     "iopub.status.busy": "2021-06-21T20:00:31.815039Z",
     "iopub.status.idle": "2021-06-21T20:00:32.743911Z",
     "shell.execute_reply": "2021-06-21T20:00:32.743344Z"
    }
   },
   "outputs": [
    {
     "name": "stdout",
     "output_type": "stream",
     "text": [
      "Starting experimental run with id: 1. \n",
      "Starting experimental run with id: 2. \n",
      "Starting experimental run with id: 3. \n"
     ]
    },
    {
     "name": "stdout",
     "output_type": "stream",
     "text": [
      "Starting experimental run with id: 4. \n"
     ]
    },
    {
     "name": "stdout",
     "output_type": "stream",
     "text": [
      "Starting experimental run with id: 5. \n"
     ]
    },
    {
     "name": "stdout",
     "output_type": "stream",
     "text": [
      "Starting experimental run with id: 6. \n",
      "Starting experimental run with id: 7. \n",
      "Starting experimental run with id: 8. \n"
     ]
    },
    {
     "name": "stdout",
     "output_type": "stream",
     "text": [
      "Starting experimental run with id: 9. \n"
     ]
    },
    {
     "name": "stdout",
     "output_type": "stream",
     "text": [
      "Starting experimental run with id: 10. \n",
      "Starting experimental run with id: 11. \n"
     ]
    },
    {
     "name": "stdout",
     "output_type": "stream",
     "text": [
      "Starting experimental run with id: 12. \n"
     ]
    },
    {
     "name": "stdout",
     "output_type": "stream",
     "text": [
      "Starting experimental run with id: 13. \n"
     ]
    },
    {
     "name": "stdout",
     "output_type": "stream",
     "text": [
      "Starting experimental run with id: 14. \n"
     ]
    }
   ],
   "source": [
    "sizes = [1,500,1000,2000,3000,4000,5000]\n",
    "t_numeric = []\n",
    "t_numeric_add = []\n",
    "t_array = []\n",
    "t_array_add = []\n",
    "for size in sizes:\n",
    "    tn, tna, run_id_n =  insert_data('numeric', size)\n",
    "    t_numeric.append(tn)\n",
    "    t_numeric_add.append(tna)\n",
    "\n",
    "    ta, taa, run_id_a =  insert_data('array', size)\n",
    "    t_array.append(ta)\n",
    "    t_array_add.append(taa)"
   ]
  },
  {
   "cell_type": "code",
   "execution_count": 6,
   "metadata": {
    "execution": {
     "iopub.execute_input": "2021-06-21T20:00:32.797593Z",
     "iopub.status.busy": "2021-06-21T20:00:32.774406Z",
     "iopub.status.idle": "2021-06-21T20:00:33.045166Z",
     "shell.execute_reply": "2021-06-21T20:00:33.044479Z"
    }
   },
   "outputs": [
    {
     "data": {
      "image/png": "[encoded data removed]",
      "text/plain": [
       "<Figure size 432x288 with 1 Axes>"
      ]
     },
     "metadata": {
      "needs_background": "light"
     },
     "output_type": "display_data"
    }
   ],
   "source": [
    "fig, ax = plt.subplots(1,1)\n",
    "ax.plot(sizes, t_numeric, 'o-', label='Inserting row-by-row')\n",
    "ax.plot(sizes, t_numeric_add, 'o-', label='Inserting row-by-row: add_result only')\n",
    "ax.plot(sizes, t_array, 'd-', label='Inserting as binary blob')\n",
    "ax.plot(sizes, t_array_add, 'd-', label='Inserting as binary blob: add_result only')\n",
    "ax.legend()\n",
    "ax.set_xlabel('Array length')\n",
    "ax.set_ylabel('Time (s)')\n",
    "fig.tight_layout()"
   ]
  },
  {
   "cell_type": "markdown",
   "metadata": {},
   "source": [
    "As shown in the latter figure, the time to setup and and close the experiment is approximately 0.4 sec. In case of small array sizes, the difference between inserting values of data as arrays and inserting them row-by-row is relatively unimportant. At larger array sizes, i.e. above 10000 points, the cost of writing data as individual datapoints starts to become important.\n"
   ]
  },
  {
   "cell_type": "markdown",
   "metadata": {},
   "source": [
    "### Case2: Long experiment time "
   ]
  },
  {
   "cell_type": "code",
   "execution_count": 7,
   "metadata": {
    "execution": {
     "iopub.execute_input": "2021-06-21T20:00:33.053308Z",
     "iopub.status.busy": "2021-06-21T20:00:33.052085Z",
     "iopub.status.idle": "2021-06-21T20:01:34.812206Z",
     "shell.execute_reply": "2021-06-21T20:01:34.811244Z"
    }
   },
   "outputs": [
    {
     "name": "stdout",
     "output_type": "stream",
     "text": [
      "Starting experimental run with id: 15. \n",
      "Starting experimental run with id: 16. \n"
     ]
    },
    {
     "name": "stdout",
     "output_type": "stream",
     "text": [
      "Starting experimental run with id: 17. \n"
     ]
    },
    {
     "name": "stdout",
     "output_type": "stream",
     "text": [
      "Starting experimental run with id: 18. \n"
     ]
    },
    {
     "name": "stdout",
     "output_type": "stream",
     "text": [
      "Starting experimental run with id: 19. \n"
     ]
    },
    {
     "name": "stdout",
     "output_type": "stream",
     "text": [
      "Starting experimental run with id: 20. \n"
     ]
    },
    {
     "name": "stdout",
     "output_type": "stream",
     "text": [
      "Starting experimental run with id: 21. \n"
     ]
    },
    {
     "name": "stdout",
     "output_type": "stream",
     "text": [
      "Starting experimental run with id: 22. \n"
     ]
    },
    {
     "name": "stdout",
     "output_type": "stream",
     "text": [
      "Starting experimental run with id: 23. \n"
     ]
    },
    {
     "name": "stdout",
     "output_type": "stream",
     "text": [
      "Starting experimental run with id: 24. \n"
     ]
    },
    {
     "name": "stdout",
     "output_type": "stream",
     "text": [
      "Starting experimental run with id: 25. \n"
     ]
    },
    {
     "name": "stdout",
     "output_type": "stream",
     "text": [
      "Starting experimental run with id: 26. \n"
     ]
    },
    {
     "name": "stdout",
     "output_type": "stream",
     "text": [
      "Starting experimental run with id: 27. \n"
     ]
    },
    {
     "name": "stdout",
     "output_type": "stream",
     "text": [
      "Starting experimental run with id: 28. \n"
     ]
    }
   ],
   "source": [
    "sizes = [1,500,1000,2000,3000,4000,5000]\n",
    "nreps = 100\n",
    "t_numeric = []\n",
    "t_numeric_add = []\n",
    "t_numeric_run_ids = []\n",
    "t_array = []\n",
    "t_array_add = []\n",
    "t_array_run_ids = []\n",
    "for size in sizes:\n",
    "    tn, tna, run_id_n =  insert_data('numeric', size, nreps=nreps)\n",
    "    t_numeric.append(tn)\n",
    "    t_numeric_add.append(tna)\n",
    "    t_numeric_run_ids.append(run_id_n)\n",
    "\n",
    "    ta, taa, run_id_a =  insert_data('array', size, nreps=nreps)\n",
    "    t_array.append(ta)\n",
    "    t_array_add.append(taa)\n",
    "    t_array_run_ids.append(run_id_a)"
   ]
  },
  {
   "cell_type": "code",
   "execution_count": 8,
   "metadata": {
    "execution": {
     "iopub.execute_input": "2021-06-21T20:01:34.862011Z",
     "iopub.status.busy": "2021-06-21T20:01:34.860955Z",
     "iopub.status.idle": "2021-06-21T20:01:35.072311Z",
     "shell.execute_reply": "2021-06-21T20:01:35.071752Z"
    },
    "scrolled": true
   },
   "outputs": [
    {
     "data": {
      "image/png": "[encoded data removed]",
      "text/plain": [
       "<Figure size 432x288 with 1 Axes>"
      ]
     },
     "metadata": {
      "needs_background": "light"
     },
     "output_type": "display_data"
    }
   ],
   "source": [
    "fig, ax = plt.subplots(1,1)\n",
    "ax.plot(sizes, t_numeric, 'o-', label='Inserting row-by-row')\n",
    "ax.plot(sizes, t_numeric_add, 'o-', label='Inserting row-by-row: add_result only')\n",
    "ax.plot(sizes, t_array, 'd-', label='Inserting as binary blob')\n",
    "ax.plot(sizes, t_array_add, 'd-', label='Inserting as binary blob: add_result only')\n",
    "ax.legend()\n",
    "ax.set_xlabel('Array length')\n",
    "ax.set_ylabel('Time (s)')\n",
    "fig.tight_layout()"
   ]
  },
  {
   "cell_type": "markdown",
   "metadata": {},
   "source": [
    "However, as we increase the length of the experiment, as seen here by repeating the insertion 100 times, we see a big difference between inserting values of the data row-by-row and inserting it as a binary blob."
   ]
  },
  {
   "cell_type": "markdown",
   "metadata": {},
   "source": [
    "## Loading the data "
   ]
  },
  {
   "cell_type": "code",
   "execution_count": 9,
   "metadata": {
    "execution": {
     "iopub.execute_input": "2021-06-21T20:01:35.076980Z",
     "iopub.status.busy": "2021-06-21T20:01:35.076340Z",
     "iopub.status.idle": "2021-06-21T20:01:35.079771Z",
     "shell.execute_reply": "2021-06-21T20:01:35.080312Z"
    }
   },
   "outputs": [],
   "source": [
    "from qcodes.dataset.data_set import load_by_id"
   ]
  },
  {
   "cell_type": "markdown",
   "metadata": {},
   "source": [
    "As usual you can load the data by using the ``load_by_id`` function but you will notice that the different storage methods\n",
    "are reflected in shape of the data as it is retrieved. "
   ]
  },
  {
   "cell_type": "code",
   "execution_count": 10,
   "metadata": {
    "execution": {
     "iopub.execute_input": "2021-06-21T20:01:35.085311Z",
     "iopub.status.busy": "2021-06-21T20:01:35.083931Z",
     "iopub.status.idle": "2021-06-21T20:01:35.086186Z",
     "shell.execute_reply": "2021-06-21T20:01:35.086730Z"
    }
   },
   "outputs": [],
   "source": [
    "run_id_n = t_numeric_run_ids[0]\n",
    "run_id_a = t_array_run_ids[0]"
   ]
  },
  {
   "cell_type": "code",
   "execution_count": 11,
   "metadata": {
    "execution": {
     "iopub.execute_input": "2021-06-21T20:01:35.090580Z",
     "iopub.status.busy": "2021-06-21T20:01:35.089937Z",
     "iopub.status.idle": "2021-06-21T20:01:35.100650Z",
     "shell.execute_reply": "2021-06-21T20:01:35.101195Z"
    },
    "scrolled": true
   },
   "outputs": [
    {
     "data": {
      "text/plain": [
       "{'x1': {'x1': array([0.33572895, 0.33572895, 0.69673193, 0.69673193, 0.76079253,\n",
       "         0.76079253, 0.53718651, 0.53718651, 0.4638864 , 0.4638864 ,\n",
       "         0.05105958, 0.05105958, 0.17570055, 0.17570055, 0.52457041,\n",
       "         0.52457041, 0.69159959, 0.69159959, 0.76592558, 0.76592558,\n",
       "         0.09407636, 0.09407636, 0.5389374 , 0.5389374 , 0.45833574,\n",
       "         0.45833574, 0.28149815, 0.28149815, 0.53225615, 0.53225615,\n",
       "         0.52623193, 0.52623193, 0.76024429, 0.76024429, 0.81587601,\n",
       "         0.81587601, 0.1778995 , 0.1778995 , 0.08598417, 0.08598417,\n",
       "         0.94377971, 0.94377971, 0.83363766, 0.83363766, 0.70264688,\n",
       "         0.70264688, 0.97970537, 0.97970537, 0.0132882 , 0.0132882 ,\n",
       "         0.9987803 , 0.9987803 , 0.35431799, 0.35431799, 0.74210459,\n",
       "         0.74210459, 0.65801186, 0.65801186, 0.84133401, 0.84133401,\n",
       "         0.0133363 , 0.0133363 , 0.56173014, 0.56173014, 0.48194848,\n",
       "         0.48194848, 0.08967929, 0.08967929, 0.59548336, 0.59548336,\n",
       "         0.33740379, 0.33740379, 0.28956946, 0.28956946, 0.0217951 ,\n",
       "         0.0217951 , 0.62547464, 0.62547464, 0.43503033, 0.43503033,\n",
       "         0.50634656, 0.50634656, 0.7908398 , 0.7908398 , 0.10405592,\n",
       "         0.10405592, 0.74837531, 0.74837531, 0.62589175, 0.62589175,\n",
       "         0.59165103, 0.59165103, 0.93745225, 0.93745225, 0.91051999,\n",
       "         0.91051999, 0.40511696, 0.40511696, 0.9027143 , 0.9027143 ,\n",
       "         0.66272688, 0.66272688, 0.68394533, 0.68394533, 0.61036253,\n",
       "         0.61036253, 0.32877228, 0.32877228, 0.20936629, 0.20936629,\n",
       "         0.71201649, 0.71201649, 0.78084103, 0.78084103, 0.07705429,\n",
       "         0.07705429, 0.50519084, 0.50519084, 0.92756933, 0.92756933,\n",
       "         0.26866923, 0.26866923, 0.35573952, 0.35573952, 0.52868263,\n",
       "         0.52868263, 0.18153358, 0.18153358, 0.03059312, 0.03059312,\n",
       "         0.45254498, 0.45254498, 0.6748902 , 0.6748902 , 0.31260976,\n",
       "         0.31260976, 0.46646539, 0.46646539, 0.77038962, 0.77038962,\n",
       "         0.80144938, 0.80144938, 0.45193508, 0.45193508, 0.59319112,\n",
       "         0.59319112, 0.57260504, 0.57260504, 0.88183013, 0.88183013,\n",
       "         0.20844024, 0.20844024, 0.01988996, 0.01988996, 0.70786408,\n",
       "         0.70786408, 0.85637352, 0.85637352, 0.32970587, 0.32970587,\n",
       "         0.61044528, 0.61044528, 0.03378511, 0.03378511, 0.57243856,\n",
       "         0.57243856, 0.07918009, 0.07918009, 0.95197794, 0.95197794,\n",
       "         0.8936737 , 0.8936737 , 0.50033095, 0.50033095, 0.7830279 ,\n",
       "         0.7830279 , 0.25040829, 0.25040829, 0.33654641, 0.33654641,\n",
       "         0.99314146, 0.99314146, 0.98459886, 0.98459886, 0.34806743,\n",
       "         0.34806743, 0.97461312, 0.97461312, 0.25267685, 0.25267685,\n",
       "         0.77353922, 0.77353922, 0.90682352, 0.90682352, 0.39049652,\n",
       "         0.39049652, 0.70851169, 0.70851169, 0.82940509, 0.82940509])}}"
      ]
     },
     "execution_count": 1,
     "metadata": {},
     "output_type": "execute_result"
    }
   ],
   "source": [
    "ds = load_by_id(run_id_n)\n",
    "ds.get_parameter_data('x1')"
   ]
  },
  {
   "cell_type": "markdown",
   "metadata": {},
   "source": [
    "And a dataset stored as binary arrays"
   ]
  },
  {
   "cell_type": "code",
   "execution_count": 12,
   "metadata": {
    "execution": {
     "iopub.execute_input": "2021-06-21T20:01:35.105249Z",
     "iopub.status.busy": "2021-06-21T20:01:35.104624Z",
     "iopub.status.idle": "2021-06-21T20:01:35.171584Z",
     "shell.execute_reply": "2021-06-21T20:01:35.172130Z"
    },
    "scrolled": true
   },
   "outputs": [
    {
     "data": {
      "text/plain": [
       "{'x1': {'x1': array([[4.96341842e-02],\n",
       "         [4.96341842e-02],\n",
       "         [1.07058196e-01],\n",
       "         [1.07058196e-01],\n",
       "         [4.86493585e-01],\n",
       "         [4.86493585e-01],\n",
       "         [7.35216969e-01],\n",
       "         [7.35216969e-01],\n",
       "         [6.10196428e-01],\n",
       "         [6.10196428e-01],\n",
       "         [7.97692657e-02],\n",
       "         [7.97692657e-02],\n",
       "         [3.90722021e-01],\n",
       "         [3.90722021e-01],\n",
       "         [6.73316190e-01],\n",
       "         [6.73316190e-01],\n",
       "         [2.21043096e-01],\n",
       "         [2.21043096e-01],\n",
       "         [4.16083978e-01],\n",
       "         [4.16083978e-01],\n",
       "         [9.36512677e-01],\n",
       "         [9.36512677e-01],\n",
       "         [6.27649671e-01],\n",
       "         [6.27649671e-01],\n",
       "         [2.38951683e-01],\n",
       "         [2.38951683e-01],\n",
       "         [9.69171307e-01],\n",
       "         [9.69171307e-01],\n",
       "         [1.19805938e-01],\n",
       "         [1.19805938e-01],\n",
       "         [6.53299831e-01],\n",
       "         [6.53299831e-01],\n",
       "         [7.66239416e-01],\n",
       "         [7.66239416e-01],\n",
       "         [5.23201383e-04],\n",
       "         [5.23201383e-04],\n",
       "         [5.15174329e-03],\n",
       "         [5.15174329e-03],\n",
       "         [2.54597718e-01],\n",
       "         [2.54597718e-01],\n",
       "         [8.99127165e-01],\n",
       "         [8.99127165e-01],\n",
       "         [8.34607405e-01],\n",
       "         [8.34607405e-01],\n",
       "         [6.10133881e-01],\n",
       "         [6.10133881e-01],\n",
       "         [6.53175952e-01],\n",
       "         [6.53175952e-01],\n",
       "         [8.43393993e-01],\n",
       "         [8.43393993e-01],\n",
       "         [7.32282602e-01],\n",
       "         [7.32282602e-01],\n",
       "         [1.32503337e-01],\n",
       "         [1.32503337e-01],\n",
       "         [3.53079170e-01],\n",
       "         [3.53079170e-01],\n",
       "         [5.92169008e-03],\n",
       "         [5.92169008e-03],\n",
       "         [8.23988503e-02],\n",
       "         [8.23988503e-02],\n",
       "         [6.56947522e-01],\n",
       "         [6.56947522e-01],\n",
       "         [4.93165691e-01],\n",
       "         [4.93165691e-01],\n",
       "         [6.22080972e-01],\n",
       "         [6.22080972e-01],\n",
       "         [5.56599185e-01],\n",
       "         [5.56599185e-01],\n",
       "         [7.11428110e-01],\n",
       "         [7.11428110e-01],\n",
       "         [5.09796941e-02],\n",
       "         [5.09796941e-02],\n",
       "         [3.52428621e-01],\n",
       "         [3.52428621e-01],\n",
       "         [1.74375360e-01],\n",
       "         [1.74375360e-01],\n",
       "         [7.16515049e-01],\n",
       "         [7.16515049e-01],\n",
       "         [1.76007054e-01],\n",
       "         [1.76007054e-01],\n",
       "         [9.09901322e-01],\n",
       "         [9.09901322e-01],\n",
       "         [1.27025166e-01],\n",
       "         [1.27025166e-01],\n",
       "         [7.66000612e-02],\n",
       "         [7.66000612e-02],\n",
       "         [9.69425276e-01],\n",
       "         [9.69425276e-01],\n",
       "         [7.75146399e-01],\n",
       "         [7.75146399e-01],\n",
       "         [4.74424378e-01],\n",
       "         [4.74424378e-01],\n",
       "         [8.30214300e-01],\n",
       "         [8.30214300e-01],\n",
       "         [2.99439932e-01],\n",
       "         [2.99439932e-01],\n",
       "         [8.18480770e-01],\n",
       "         [8.18480770e-01],\n",
       "         [3.08768861e-01],\n",
       "         [3.08768861e-01],\n",
       "         [3.02117091e-01],\n",
       "         [3.02117091e-01],\n",
       "         [8.72175071e-01],\n",
       "         [8.72175071e-01],\n",
       "         [6.10993639e-01],\n",
       "         [6.10993639e-01],\n",
       "         [6.89728210e-01],\n",
       "         [6.89728210e-01],\n",
       "         [3.11416973e-01],\n",
       "         [3.11416973e-01],\n",
       "         [4.67443501e-01],\n",
       "         [4.67443501e-01],\n",
       "         [6.75786998e-02],\n",
       "         [6.75786998e-02],\n",
       "         [8.28847467e-01],\n",
       "         [8.28847467e-01],\n",
       "         [2.13561409e-01],\n",
       "         [2.13561409e-01],\n",
       "         [6.38140598e-01],\n",
       "         [6.38140598e-01],\n",
       "         [3.40287913e-01],\n",
       "         [3.40287913e-01],\n",
       "         [5.60695451e-02],\n",
       "         [5.60695451e-02],\n",
       "         [4.90808682e-01],\n",
       "         [4.90808682e-01],\n",
       "         [9.20145191e-01],\n",
       "         [9.20145191e-01],\n",
       "         [7.64217762e-01],\n",
       "         [7.64217762e-01],\n",
       "         [9.31997168e-01],\n",
       "         [9.31997168e-01],\n",
       "         [8.53889460e-01],\n",
       "         [8.53889460e-01],\n",
       "         [7.25860351e-01],\n",
       "         [7.25860351e-01],\n",
       "         [5.46915177e-01],\n",
       "         [5.46915177e-01],\n",
       "         [9.02461305e-01],\n",
       "         [9.02461305e-01],\n",
       "         [8.26607268e-01],\n",
       "         [8.26607268e-01],\n",
       "         [3.95762994e-02],\n",
       "         [3.95762994e-02],\n",
       "         [2.26978209e-01],\n",
       "         [2.26978209e-01],\n",
       "         [1.75774922e-01],\n",
       "         [1.75774922e-01],\n",
       "         [8.64967526e-02],\n",
       "         [8.64967526e-02],\n",
       "         [2.91323392e-01],\n",
       "         [2.91323392e-01],\n",
       "         [2.67451958e-01],\n",
       "         [2.67451958e-01],\n",
       "         [6.03086028e-01],\n",
       "         [6.03086028e-01],\n",
       "         [2.08083536e-01],\n",
       "         [2.08083536e-01],\n",
       "         [1.71882776e-01],\n",
       "         [1.71882776e-01],\n",
       "         [5.96226940e-03],\n",
       "         [5.96226940e-03],\n",
       "         [4.08634835e-01],\n",
       "         [4.08634835e-01],\n",
       "         [7.69844851e-01],\n",
       "         [7.69844851e-01],\n",
       "         [3.51231121e-01],\n",
       "         [3.51231121e-01],\n",
       "         [7.18773995e-01],\n",
       "         [7.18773995e-01],\n",
       "         [1.02423136e-01],\n",
       "         [1.02423136e-01],\n",
       "         [6.93012003e-01],\n",
       "         [6.93012003e-01],\n",
       "         [9.25957854e-02],\n",
       "         [9.25957854e-02],\n",
       "         [5.98087330e-02],\n",
       "         [5.98087330e-02],\n",
       "         [6.30395542e-01],\n",
       "         [6.30395542e-01],\n",
       "         [1.21709298e-01],\n",
       "         [1.21709298e-01],\n",
       "         [9.59580831e-01],\n",
       "         [9.59580831e-01],\n",
       "         [2.66056145e-01],\n",
       "         [2.66056145e-01],\n",
       "         [7.86064847e-01],\n",
       "         [7.86064847e-01],\n",
       "         [5.55356043e-01],\n",
       "         [5.55356043e-01],\n",
       "         [3.39141133e-01],\n",
       "         [3.39141133e-01],\n",
       "         [3.39141333e-01],\n",
       "         [3.39141333e-01],\n",
       "         [7.82942447e-01],\n",
       "         [7.82942447e-01],\n",
       "         [5.65207877e-01],\n",
       "         [5.65207877e-01],\n",
       "         [9.13025464e-01],\n",
       "         [9.13025464e-01]])}}"
      ]
     },
     "execution_count": 1,
     "metadata": {},
     "output_type": "execute_result"
    }
   ],
   "source": [
    "ds = load_by_id(run_id_a)\n",
    "ds.get_parameter_data('x1')"
   ]
  },
  {
   "cell_type": "code",
   "execution_count": null,
   "metadata": {},
   "outputs": [],
   "source": []
  }
 ],
 "metadata": {
  "kernelspec": {
   "display_name": "Python 3",
   "language": "python",
   "name": "python3"
  },
  "language_info": {
   "codemirror_mode": {
    "name": "ipython",
    "version": 3
   },
   "file_extension": ".py",
   "mimetype": "text/x-python",
   "name": "python",
   "nbconvert_exporter": "python",
   "pygments_lexer": "ipython3",
   "version": "3.7.10"
  },
  "nbsphinx": {
   "timeout": 600
  },
  "toc": {
   "base_numbering": 1,
   "nav_menu": {},
   "number_sections": true,
   "sideBar": true,
   "skip_h1_title": false,
   "title_cell": "Table of Contents",
   "title_sidebar": "Contents",
   "toc_cell": false,
   "toc_position": {},
   "toc_section_display": true,
   "toc_window_display": false
  },
  "varInspector": {
   "cols": {
    "lenName": 16,
    "lenType": 16,
    "lenVar": 40
   },
   "kernels_config": {
    "python": {
     "delete_cmd_postfix": "",
     "delete_cmd_prefix": "del ",
     "library": "var_list.py",
     "varRefreshCmd": "print(var_dic_list())"
    },
    "r": {
     "delete_cmd_postfix": ") ",
     "delete_cmd_prefix": "rm(",
     "library": "var_list.r",
     "varRefreshCmd": "cat(var_dic_list()) "
    }
   },
   "types_to_exclude": [
    "module",
    "function",
    "builtin_function_or_method",
    "instance",
    "_Feature"
   ],
   "window_display": false
  }
 },
 "nbformat": 4,
 "nbformat_minor": 4
}
