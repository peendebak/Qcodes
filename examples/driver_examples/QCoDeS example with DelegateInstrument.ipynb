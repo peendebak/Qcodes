{
 "cells": [
  {
   "cell_type": "markdown",
   "id": "plain-primary",
   "metadata": {},
   "source": [
    "# Qcodes example with DelegateInstrument driver\n",
    "\n",
    "This notebooks explains how to use the `DelegateInstrument` driver.\n",
    "\n",
    "## About\n",
    "The goal of the `DelegateInstrument` driver is to make it easier to combine different parameters together into a new \"virtual\" instrument. Each parameter on a `DelegateInstrument` can point to one or more parameters on other instruments in the station.\n",
    "\n",
    "## Usage\n",
    "The way it's used is mainly by specifying an entry in the station YAML. For instance, let's say you want to use a magnetic field coil. The driver has a method set_field(value, block), that by default is set to block=True, which means the field is ramped in a way that blocks further execution until the desired value is reached. However, let's say you are creating a measurement in which you want the parameter to be set, and while the value is ramping, you want to measure other parameters. This can be done by using `DelegateInstrument` and specifying a custom `setter` for the parameter that gets and sets the magnetic field.\n",
    "\n",
    "By default, each parameter is represented by a `DelegateParameter`. The `DelegateInstrument` also supports passing multiple source parameters to a given parameter. In order to do this, simply specify multiple parameters in the dictionary values  under the `parameters` key."
   ]
  },
  {
   "cell_type": "code",
   "execution_count": 1,
   "id": "sapphire-quebec",
   "metadata": {
    "execution": {
     "iopub.execute_input": "2021-06-21T20:07:10.227247Z",
     "iopub.status.busy": "2021-06-21T20:07:10.226588Z",
     "iopub.status.idle": "2021-06-21T20:07:10.235688Z",
     "shell.execute_reply": "2021-06-21T20:07:10.236191Z"
    }
   },
   "outputs": [
    {
     "name": "stdout",
     "output_type": "stream",
     "text": [
      "Writing example.yaml\n"
     ]
    }
   ],
   "source": [
    "%%writefile example.yaml\n",
    "\n",
    "instruments:\n",
    "  field_X:\n",
    "    type: qcodes.tests.instrument_mocks.MockField\n",
    "\n",
    "  field:\n",
    "    type: qcodes.instrument.delegate.DelegateInstrument\n",
    "    init:\n",
    "      parameters:\n",
    "        X:\n",
    "          - field_X.field\n",
    "        ramp_rate:\n",
    "          - field_X.ramp_rate\n",
    "        combined:\n",
    "          - field_X.field\n",
    "          - field_X.ramp_rate\n",
    "      set_initial_values_on_load: true\n",
    "      initial_values:\n",
    "        ramp_rate: 1.0\n",
    "      setters:\n",
    "        X:\n",
    "          method: field_X.set_field\n",
    "          block: false"
   ]
  },
  {
   "cell_type": "code",
   "execution_count": 2,
   "id": "younger-newspaper",
   "metadata": {
    "execution": {
     "iopub.execute_input": "2021-06-21T20:07:10.240673Z",
     "iopub.status.busy": "2021-06-21T20:07:10.240034Z",
     "iopub.status.idle": "2021-06-21T20:07:11.510064Z",
     "shell.execute_reply": "2021-06-21T20:07:11.510587Z"
    }
   },
   "outputs": [
    {
     "name": "stdout",
     "output_type": "stream",
     "text": [
      "Logging hadn't been started.\n",
      "Activating auto-logging. Current session state plus future input saved.\n",
      "Filename       : /home/runner/.qcodes/logs/command_history.log\n",
      "Mode           : append\n",
      "Output logging : True\n",
      "Raw input log  : False\n",
      "Timestamping   : True\n",
      "State          : active\n"
     ]
    },
    {
     "name": "stdout",
     "output_type": "stream",
     "text": [
      "Qcodes Logfile : /home/runner/.qcodes/logs/210621-9122-qcodes.log\n"
     ]
    }
   ],
   "source": [
    "import qcodes as qc"
   ]
  },
  {
   "cell_type": "code",
   "execution_count": 3,
   "id": "muslim-briefs",
   "metadata": {
    "execution": {
     "iopub.execute_input": "2021-06-21T20:07:11.514977Z",
     "iopub.status.busy": "2021-06-21T20:07:11.514330Z",
     "iopub.status.idle": "2021-06-21T20:07:11.529264Z",
     "shell.execute_reply": "2021-06-21T20:07:11.529799Z"
    }
   },
   "outputs": [],
   "source": [
    "station = qc.Station(config_file=\"example.yaml\")"
   ]
  },
  {
   "cell_type": "code",
   "execution_count": 4,
   "id": "greatest-antenna",
   "metadata": {
    "execution": {
     "iopub.execute_input": "2021-06-21T20:07:11.543638Z",
     "iopub.status.busy": "2021-06-21T20:07:11.532951Z",
     "iopub.status.idle": "2021-06-21T20:07:11.562551Z",
     "shell.execute_reply": "2021-06-21T20:07:11.563076Z"
    }
   },
   "outputs": [],
   "source": [
    "field_X = station.load_field_X()\n",
    "field = station.load_field(station=station)"
   ]
  },
  {
   "cell_type": "code",
   "execution_count": 5,
   "id": "every-playing",
   "metadata": {
    "execution": {
     "iopub.execute_input": "2021-06-21T20:07:11.571545Z",
     "iopub.status.busy": "2021-06-21T20:07:11.566270Z",
     "iopub.status.idle": "2021-06-21T20:07:11.576993Z",
     "shell.execute_reply": "2021-06-21T20:07:11.577537Z"
    }
   },
   "outputs": [
    {
     "data": {
      "text/plain": [
       "0.0"
      ]
     },
     "execution_count": 1,
     "metadata": {},
     "output_type": "execute_result"
    }
   ],
   "source": [
    "field.X()"
   ]
  },
  {
   "cell_type": "code",
   "execution_count": 6,
   "id": "undefined-worst",
   "metadata": {
    "execution": {
     "iopub.execute_input": "2021-06-21T20:07:11.583102Z",
     "iopub.status.busy": "2021-06-21T20:07:11.581673Z",
     "iopub.status.idle": "2021-06-21T20:07:11.583810Z",
     "shell.execute_reply": "2021-06-21T20:07:11.584347Z"
    }
   },
   "outputs": [],
   "source": [
    "field.X(1.)"
   ]
  },
  {
   "cell_type": "code",
   "execution_count": 7,
   "id": "recreational-suggestion",
   "metadata": {
    "execution": {
     "iopub.execute_input": "2021-06-21T20:07:11.589157Z",
     "iopub.status.busy": "2021-06-21T20:07:11.587080Z",
     "iopub.status.idle": "2021-06-21T20:07:11.591557Z",
     "shell.execute_reply": "2021-06-21T20:07:11.592089Z"
    }
   },
   "outputs": [
    {
     "data": {
      "text/plain": [
       "0.00010527769724527995"
      ]
     },
     "execution_count": 1,
     "metadata": {},
     "output_type": "execute_result"
    }
   ],
   "source": [
    "field.X()"
   ]
  },
  {
   "cell_type": "code",
   "execution_count": 8,
   "id": "adopted-exchange",
   "metadata": {
    "execution": {
     "iopub.execute_input": "2021-06-21T20:07:11.597641Z",
     "iopub.status.busy": "2021-06-21T20:07:11.596552Z",
     "iopub.status.idle": "2021-06-21T20:07:11.600250Z",
     "shell.execute_reply": "2021-06-21T20:07:11.599704Z"
    }
   },
   "outputs": [
    {
     "data": {
      "text/plain": [
       "0.00023103952407836913"
      ]
     },
     "execution_count": 1,
     "metadata": {},
     "output_type": "execute_result"
    }
   ],
   "source": [
    "field.X()"
   ]
  },
  {
   "cell_type": "code",
   "execution_count": 9,
   "id": "bound-broadcasting",
   "metadata": {
    "execution": {
     "iopub.execute_input": "2021-06-21T20:07:11.605729Z",
     "iopub.status.busy": "2021-06-21T20:07:11.604605Z",
     "iopub.status.idle": "2021-06-21T20:07:11.607605Z",
     "shell.execute_reply": "2021-06-21T20:07:11.608285Z"
    }
   },
   "outputs": [
    {
     "data": {
      "text/plain": [
       "0.0003658850987752279"
      ]
     },
     "execution_count": 1,
     "metadata": {},
     "output_type": "execute_result"
    }
   ],
   "source": [
    "field.X()"
   ]
  },
  {
   "cell_type": "code",
   "execution_count": 10,
   "id": "casual-ghost",
   "metadata": {
    "execution": {
     "iopub.execute_input": "2021-06-21T20:07:11.613836Z",
     "iopub.status.busy": "2021-06-21T20:07:11.612697Z",
     "iopub.status.idle": "2021-06-21T20:07:11.616242Z",
     "shell.execute_reply": "2021-06-21T20:07:11.615679Z"
    }
   },
   "outputs": [
    {
     "data": {
      "text/plain": [
       "0.0005010843276977539"
      ]
     },
     "execution_count": 1,
     "metadata": {},
     "output_type": "execute_result"
    }
   ],
   "source": [
    "field.X()"
   ]
  },
  {
   "cell_type": "markdown",
   "id": "alike-process",
   "metadata": {},
   "source": [
    "As you can see, the field is now ramped in the background with the specified ramp rate. Now, let's try to create a measurement that uses this ability, and ramps the field in the background while measuring:"
   ]
  },
  {
   "cell_type": "code",
   "execution_count": 11,
   "id": "sustained-tiger",
   "metadata": {
    "execution": {
     "iopub.execute_input": "2021-06-21T20:07:11.620375Z",
     "iopub.status.busy": "2021-06-21T20:07:11.619732Z",
     "iopub.status.idle": "2021-06-21T20:07:11.625518Z",
     "shell.execute_reply": "2021-06-21T20:07:11.624943Z"
    }
   },
   "outputs": [],
   "source": [
    "field.ramp_rate(10.)\n",
    "field_X.field(0.0)"
   ]
  },
  {
   "cell_type": "code",
   "execution_count": 12,
   "id": "pharmaceutical-partition",
   "metadata": {
    "execution": {
     "iopub.execute_input": "2021-06-21T20:07:11.630015Z",
     "iopub.status.busy": "2021-06-21T20:07:11.629329Z",
     "iopub.status.idle": "2021-06-21T20:07:11.632038Z",
     "shell.execute_reply": "2021-06-21T20:07:11.632655Z"
    }
   },
   "outputs": [
    {
     "data": {
      "text/plain": [
       "0.0"
      ]
     },
     "execution_count": 1,
     "metadata": {},
     "output_type": "execute_result"
    }
   ],
   "source": [
    "field.X()"
   ]
  },
  {
   "cell_type": "code",
   "execution_count": 13,
   "id": "happy-ordinance",
   "metadata": {
    "execution": {
     "iopub.execute_input": "2021-06-21T20:07:11.638388Z",
     "iopub.status.busy": "2021-06-21T20:07:11.637603Z",
     "iopub.status.idle": "2021-06-21T20:07:12.878642Z",
     "shell.execute_reply": "2021-06-21T20:07:12.877676Z"
    }
   },
   "outputs": [
    {
     "name": "stdout",
     "output_type": "stream",
     "text": [
      "Starting experimental run with id: 56. \n"
     ]
    }
   ],
   "source": [
    "import time\n",
    "meas = qc.Measurement(station=station)\n",
    "meas.register_parameter(field.X)\n",
    "\n",
    "with meas.run() as datasaver:\n",
    "    for B in [0.1, 0.0]:\n",
    "        field.X(B)\n",
    "        while field.X() != B:\n",
    "            datasaver.add_result((field.X, field.X()))\n",
    "            time.sleep(0.01)\n",
    "    datasaver.flush_data_to_database()"
   ]
  },
  {
   "cell_type": "code",
   "execution_count": 14,
   "id": "short-medium",
   "metadata": {
    "execution": {
     "iopub.execute_input": "2021-06-21T20:07:12.883091Z",
     "iopub.status.busy": "2021-06-21T20:07:12.882481Z",
     "iopub.status.idle": "2021-06-21T20:07:13.321367Z",
     "shell.execute_reply": "2021-06-21T20:07:13.320825Z"
    }
   },
   "outputs": [
    {
     "data": {
      "text/plain": [
       "<AxesSubplot:>"
      ]
     },
     "execution_count": 1,
     "metadata": {},
     "output_type": "execute_result"
    },
    {
     "data": {
      "image/png": "[encoded data removed]",
      "text/plain": [
       "<Figure size 432x288 with 1 Axes>"
      ]
     },
     "metadata": {
      "needs_background": "light"
     },
     "output_type": "display_data"
    }
   ],
   "source": [
    "datasaver.dataset.to_pandas_dataframe().plot()"
   ]
  },
  {
   "cell_type": "markdown",
   "id": "incomplete-vietnamese",
   "metadata": {},
   "source": [
    "When specifying multiple source parameters on a given parameter, the grouped parameter will automatically return a `namedtuple` that returns both values."
   ]
  },
  {
   "cell_type": "code",
   "execution_count": 15,
   "id": "dangerous-finder",
   "metadata": {
    "execution": {
     "iopub.execute_input": "2021-06-21T20:07:13.326560Z",
     "iopub.status.busy": "2021-06-21T20:07:13.325927Z",
     "iopub.status.idle": "2021-06-21T20:07:13.331963Z",
     "shell.execute_reply": "2021-06-21T20:07:13.331404Z"
    }
   },
   "outputs": [
    {
     "data": {
      "text/plain": [
       "combined(field=0.0, ramp_rate=10.0)"
      ]
     },
     "execution_count": 1,
     "metadata": {},
     "output_type": "execute_result"
    }
   ],
   "source": [
    "field.combined()"
   ]
  },
  {
   "cell_type": "markdown",
   "id": "consolidated-cooper",
   "metadata": {},
   "source": [
    "We can now also create a custom parameter that does a simple calculation based on the current parameters."
   ]
  },
  {
   "cell_type": "code",
   "execution_count": 16,
   "id": "designed-bloom",
   "metadata": {
    "execution": {
     "iopub.execute_input": "2021-06-21T20:07:13.337158Z",
     "iopub.status.busy": "2021-06-21T20:07:13.336559Z",
     "iopub.status.idle": "2021-06-21T20:07:13.339925Z",
     "shell.execute_reply": "2021-06-21T20:07:13.340706Z"
    }
   },
   "outputs": [],
   "source": [
    "import numpy as np\n",
    "\n",
    "def calculate_ramp_time(X, ramp_rate):\n",
    "    \"\"\"Calculate ramp time in seconds\"\"\"\n",
    "    dfield = np.abs(field.target_field - X)\n",
    "    return 60. * dfield/ramp_rate"
   ]
  },
  {
   "cell_type": "code",
   "execution_count": 17,
   "id": "disabled-logic",
   "metadata": {
    "execution": {
     "iopub.execute_input": "2021-06-21T20:07:13.345601Z",
     "iopub.status.busy": "2021-06-21T20:07:13.344997Z",
     "iopub.status.idle": "2021-06-21T20:07:13.348913Z",
     "shell.execute_reply": "2021-06-21T20:07:13.348364Z"
    },
    "scrolled": true
   },
   "outputs": [],
   "source": [
    "field._create_and_add_parameter(\n",
    "    group_name=\"ramp_time\",\n",
    "    station=station,\n",
    "    paths=[\"field_X.field\", \"field_X.ramp_rate\"],\n",
    "    formatter=calculate_ramp_time\n",
    ")"
   ]
  },
  {
   "cell_type": "code",
   "execution_count": 18,
   "id": "adverse-february",
   "metadata": {
    "execution": {
     "iopub.execute_input": "2021-06-21T20:07:13.353950Z",
     "iopub.status.busy": "2021-06-21T20:07:13.353312Z",
     "iopub.status.idle": "2021-06-21T20:07:13.358402Z",
     "shell.execute_reply": "2021-06-21T20:07:13.359231Z"
    }
   },
   "outputs": [
    {
     "data": {
      "text/plain": [
       "6.0"
      ]
     },
     "execution_count": 1,
     "metadata": {},
     "output_type": "execute_result"
    }
   ],
   "source": [
    "field.ramp_rate(1.0)\n",
    "field.target_field = 0.1\n",
    "field.ramp_time()"
   ]
  },
  {
   "cell_type": "code",
   "execution_count": 19,
   "id": "statutory-xerox",
   "metadata": {
    "execution": {
     "iopub.execute_input": "2021-06-21T20:07:13.363455Z",
     "iopub.status.busy": "2021-06-21T20:07:13.362163Z",
     "iopub.status.idle": "2021-06-21T20:07:13.367098Z",
     "shell.execute_reply": "2021-06-21T20:07:13.366276Z"
    }
   },
   "outputs": [],
   "source": [
    "field.X(0.1)"
   ]
  },
  {
   "cell_type": "code",
   "execution_count": 20,
   "id": "varying-auditor",
   "metadata": {
    "execution": {
     "iopub.execute_input": "2021-06-21T20:07:13.371678Z",
     "iopub.status.busy": "2021-06-21T20:07:13.371064Z",
     "iopub.status.idle": "2021-06-21T20:07:13.376574Z",
     "shell.execute_reply": "2021-06-21T20:07:13.377097Z"
    }
   },
   "outputs": [
    {
     "data": {
      "text/plain": [
       "5.993104934692383"
      ]
     },
     "execution_count": 1,
     "metadata": {},
     "output_type": "execute_result"
    }
   ],
   "source": [
    "field.ramp_time()"
   ]
  },
  {
   "cell_type": "code",
   "execution_count": 21,
   "id": "chubby-nickel",
   "metadata": {
    "execution": {
     "iopub.execute_input": "2021-06-21T20:07:13.381146Z",
     "iopub.status.busy": "2021-06-21T20:07:13.380526Z",
     "iopub.status.idle": "2021-06-21T20:07:14.387900Z",
     "shell.execute_reply": "2021-06-21T20:07:14.387007Z"
    }
   },
   "outputs": [
    {
     "data": {
      "text/plain": [
       "4.9815733432769775"
      ]
     },
     "execution_count": 1,
     "metadata": {},
     "output_type": "execute_result"
    }
   ],
   "source": [
    "import time\n",
    "time.sleep(1.)\n",
    "field.ramp_time()"
   ]
  },
  {
   "cell_type": "code",
   "execution_count": 22,
   "id": "italian-liberty",
   "metadata": {
    "execution": {
     "iopub.execute_input": "2021-06-21T20:07:14.391953Z",
     "iopub.status.busy": "2021-06-21T20:07:14.391347Z",
     "iopub.status.idle": "2021-06-21T20:07:15.398904Z",
     "shell.execute_reply": "2021-06-21T20:07:15.398347Z"
    }
   },
   "outputs": [
    {
     "data": {
      "text/plain": [
       "3.970726013183594"
      ]
     },
     "execution_count": 1,
     "metadata": {},
     "output_type": "execute_result"
    }
   ],
   "source": [
    "import time\n",
    "time.sleep(1.)\n",
    "field.ramp_time()"
   ]
  },
  {
   "cell_type": "code",
   "execution_count": null,
   "id": "mobile-buffalo",
   "metadata": {},
   "outputs": [],
   "source": []
  }
 ],
 "metadata": {
  "kernelspec": {
   "display_name": "Python 3.7.9 64-bit ('qcodes': conda)",
   "name": "python379jvsc74a57bd01772f43cf92542b0c64f9621787c7542d65141a21c16e4e61ad35c3f481e9993"
  },
  "language_info": {
   "codemirror_mode": {
    "name": "ipython",
    "version": 3
   },
   "file_extension": ".py",
   "mimetype": "text/x-python",
   "name": "python",
   "nbconvert_exporter": "python",
   "pygments_lexer": "ipython3",
   "version": "3.7.10"
  }
 },
 "nbformat": 4,
 "nbformat_minor": 5
}
